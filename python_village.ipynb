{
  "nbformat": 4,
  "nbformat_minor": 0,
  "metadata": {
    "colab": {
      "provenance": []
    },
    "kernelspec": {
      "name": "python3",
      "display_name": "Python 3"
    },
    "language_info": {
      "name": "python"
    }
  },
  "cells": [
    {
      "cell_type": "markdown",
      "source": [
        "1. Download Python and import this\n",
        "---\n"
      ],
      "metadata": {
        "id": "cXU5CbfJey31"
      }
    },
    {
      "cell_type": "code",
      "execution_count": 1,
      "metadata": {
        "colab": {
          "base_uri": "https://localhost:8080/"
        },
        "id": "TydWbN4nevlB",
        "outputId": "ea087260-910f-42ab-e121-c1ed1c607c50"
      },
      "outputs": [
        {
          "output_type": "stream",
          "name": "stdout",
          "text": [
            "The Zen of Python, by Tim Peters\n",
            "\n",
            "Beautiful is better than ugly.\n",
            "Explicit is better than implicit.\n",
            "Simple is better than complex.\n",
            "Complex is better than complicated.\n",
            "Flat is better than nested.\n",
            "Sparse is better than dense.\n",
            "Readability counts.\n",
            "Special cases aren't special enough to break the rules.\n",
            "Although practicality beats purity.\n",
            "Errors should never pass silently.\n",
            "Unless explicitly silenced.\n",
            "In the face of ambiguity, refuse the temptation to guess.\n",
            "There should be one-- and preferably only one --obvious way to do it.\n",
            "Although that way may not be obvious at first unless you're Dutch.\n",
            "Now is better than never.\n",
            "Although never is often better than *right* now.\n",
            "If the implementation is hard to explain, it's a bad idea.\n",
            "If the implementation is easy to explain, it may be a good idea.\n",
            "Namespaces are one honking great idea -- let's do more of those!\n"
          ]
        }
      ],
      "source": [
        "import this"
      ]
    },
    {
      "cell_type": "markdown",
      "source": [
        "2. variables\n",
        "---\n"
      ],
      "metadata": {
        "id": "-TgzU2WskWv5"
      }
    },
    {
      "cell_type": "code",
      "source": [
        "a=894\n",
        "b=971\n",
        "result = a*a + b*b"
      ],
      "metadata": {
        "id": "Rsh_35V6kVuf"
      },
      "execution_count": 4,
      "outputs": []
    },
    {
      "cell_type": "code",
      "source": [
        "result"
      ],
      "metadata": {
        "colab": {
          "base_uri": "https://localhost:8080/"
        },
        "id": "xr4by3idkfi_",
        "outputId": "04889b19-1943-459a-cad7-d157d4851a5b"
      },
      "execution_count": 5,
      "outputs": [
        {
          "output_type": "execute_result",
          "data": {
            "text/plain": [
              "1742077"
            ]
          },
          "metadata": {},
          "execution_count": 5
        }
      ]
    },
    {
      "cell_type": "markdown",
      "source": [
        "3. Strings and lists\n",
        "---"
      ],
      "metadata": {
        "id": "HgG2tGJRlQM1"
      }
    },
    {
      "cell_type": "code",
      "source": [
        "s=\"Uf8q8dlCdmZktAnLi7Y8TtvAB8G6PAzIdzut86HfWYsJqiCSTz5kykPASpNFcXAmPDOnKKiHMxaYWwnOrtigometraCBPpunctatuskBSvDRdpDZrkuJ4CgkAZ6D4stu7j3XZW8Q48tkk9qlSmP2yWMMGmGp5eExRHwMRYmerafrxP2oE.\"\n",
        "#79 89 93 101\n",
        "a=79\n",
        "b=89\n",
        "c=93\n",
        "d=101\n",
        "s1 = s[a:b+1]\n",
        "s2 = s[c:d+1]\n",
        "print(s1,s2)\n"
      ],
      "metadata": {
        "colab": {
          "base_uri": "https://localhost:8080/"
        },
        "id": "qbMEq-iLlTnm",
        "outputId": "ef0f68bb-468a-4aeb-d303-a94fc3d88e81"
      },
      "execution_count": 13,
      "outputs": [
        {
          "output_type": "stream",
          "name": "stdout",
          "text": [
            "Ortigometra punctatus\n"
          ]
        }
      ]
    },
    {
      "cell_type": "markdown",
      "source": [
        "4. Conditions and loops\n",
        "---"
      ],
      "metadata": {
        "id": "Kl6Bf8funJOM"
      }
    },
    {
      "cell_type": "code",
      "source": [
        "a = 100\n",
        "b = 200\n",
        "sum = 0\n",
        "for i in range(a,b+1):\n",
        "  if i%2==1:\n",
        "    sum = sum+i\n",
        "print(sum)"
      ],
      "metadata": {
        "colab": {
          "base_uri": "https://localhost:8080/"
        },
        "id": "oBN_6YlenM6r",
        "outputId": "bd9001b1-fa80-473e-dfdb-1074b59ea925"
      },
      "execution_count": 22,
      "outputs": [
        {
          "output_type": "stream",
          "name": "stdout",
          "text": [
            "7500\n"
          ]
        }
      ]
    },
    {
      "cell_type": "markdown",
      "source": [
        "5. Using files\n",
        "---"
      ],
      "metadata": {
        "id": "_gdExp8ipfkS"
      }
    },
    {
      "cell_type": "code",
      "source": [
        "def extract_even_numbered_lines(input_filename, output_filename):\n",
        "    with open(input_filename, 'r') as infile:\n",
        "        lines = infile.readlines()\n",
        "\n",
        "    even_lines = [line for index, line in enumerate(lines, start=1) if index % 2 == 0]\n",
        "\n",
        "    with open(output_filename, 'w') as outfile:\n",
        "        outfile.writelines(even_lines)\n",
        "\n",
        "# Example usage:\n",
        "input_filename = '/content/rosalind_ini5.txt'   # Replace with the actual input file name\n",
        "output_filename = '/content/output.txt' # Replace with the actual output file name\n",
        "\n",
        "extract_even_numbered_lines(input_filename, output_filename)"
      ],
      "metadata": {
        "id": "HqVqtA2qpeeY"
      },
      "execution_count": 24,
      "outputs": []
    },
    {
      "cell_type": "markdown",
      "source": [
        "6. Using Dictionaries\n",
        "---"
      ],
      "metadata": {
        "id": "obdC8Gm4qlQy"
      }
    },
    {
      "cell_type": "code",
      "source": [
        "s=\"When I find myself in times of trouble Mother Mary comes to me Speaking words of wisdom let it be And in my hour of darkness she is standing right in front of me Speaking words of wisdom let it be Let it be let it be let it be let it be Whisper words of wisdom let it be And when the broken hearted people living in the world agree There will be an answer let it be For though they may be parted there is still a chance that they will see There will be an answer let it be Let it be let it be let it be let it be There will be an answer let it be Let it be let it be let it be let it be Whisper words of wisdom let it be Let it be let it be let it be let it be Whisper words of wisdom let it be And when the night is cloudy there is still a light that shines on me Shine until tomorrow let it be I wake up to the sound of music Mother Mary comes to me Speaking words of wisdom let it be Let it be let it be let it be yeah let it be There will be an answer let it be Let it be let it be let it be yeah let it be Whisper words of wisdom let it be\"\n",
        "lista_s = str.split(s)\n",
        "print(lista_s)"
      ],
      "metadata": {
        "colab": {
          "base_uri": "https://localhost:8080/"
        },
        "id": "oPelhvYDqklj",
        "outputId": "6aff7289-1cd5-4a96-afc1-ee45eec810fe"
      },
      "execution_count": 33,
      "outputs": [
        {
          "output_type": "stream",
          "name": "stdout",
          "text": [
            "['When', 'I', 'find', 'myself', 'in', 'times', 'of', 'trouble', 'Mother', 'Mary', 'comes', 'to', 'me', 'Speaking', 'words', 'of', 'wisdom', 'let', 'it', 'be', 'And', 'in', 'my', 'hour', 'of', 'darkness', 'she', 'is', 'standing', 'right', 'in', 'front', 'of', 'me', 'Speaking', 'words', 'of', 'wisdom', 'let', 'it', 'be', 'Let', 'it', 'be', 'let', 'it', 'be', 'let', 'it', 'be', 'let', 'it', 'be', 'Whisper', 'words', 'of', 'wisdom', 'let', 'it', 'be', 'And', 'when', 'the', 'broken', 'hearted', 'people', 'living', 'in', 'the', 'world', 'agree', 'There', 'will', 'be', 'an', 'answer', 'let', 'it', 'be', 'For', 'though', 'they', 'may', 'be', 'parted', 'there', 'is', 'still', 'a', 'chance', 'that', 'they', 'will', 'see', 'There', 'will', 'be', 'an', 'answer', 'let', 'it', 'be', 'Let', 'it', 'be', 'let', 'it', 'be', 'let', 'it', 'be', 'let', 'it', 'be', 'There', 'will', 'be', 'an', 'answer', 'let', 'it', 'be', 'Let', 'it', 'be', 'let', 'it', 'be', 'let', 'it', 'be', 'let', 'it', 'be', 'Whisper', 'words', 'of', 'wisdom', 'let', 'it', 'be', 'Let', 'it', 'be', 'let', 'it', 'be', 'let', 'it', 'be', 'let', 'it', 'be', 'Whisper', 'words', 'of', 'wisdom', 'let', 'it', 'be', 'And', 'when', 'the', 'night', 'is', 'cloudy', 'there', 'is', 'still', 'a', 'light', 'that', 'shines', 'on', 'me', 'Shine', 'until', 'tomorrow', 'let', 'it', 'be', 'I', 'wake', 'up', 'to', 'the', 'sound', 'of', 'music', 'Mother', 'Mary', 'comes', 'to', 'me', 'Speaking', 'words', 'of', 'wisdom', 'let', 'it', 'be', 'Let', 'it', 'be', 'let', 'it', 'be', 'let', 'it', 'be', 'yeah', 'let', 'it', 'be', 'There', 'will', 'be', 'an', 'answer', 'let', 'it', 'be', 'Let', 'it', 'be', 'let', 'it', 'be', 'let', 'it', 'be', 'yeah', 'let', 'it', 'be', 'Whisper', 'words', 'of', 'wisdom', 'let', 'it', 'be']\n"
          ]
        }
      ]
    },
    {
      "cell_type": "code",
      "source": [
        "import numpy as np\n",
        "unique_values, counts = np.unique(lista_s, return_counts=True)\n",
        "for i in range(len(unique_values)):\n",
        "  print(unique_values[i],counts[i])"
      ],
      "metadata": {
        "colab": {
          "base_uri": "https://localhost:8080/"
        },
        "id": "qjRKoHSnq84D",
        "outputId": "345fd94a-6838-4128-ea05-62aa2438e888"
      },
      "execution_count": 34,
      "outputs": [
        {
          "output_type": "stream",
          "name": "stdout",
          "text": [
            "And 3\n",
            "For 1\n",
            "I 2\n",
            "Let 6\n",
            "Mary 2\n",
            "Mother 2\n",
            "Shine 1\n",
            "Speaking 3\n",
            "There 4\n",
            "When 1\n",
            "Whisper 4\n",
            "a 2\n",
            "agree 1\n",
            "an 4\n",
            "answer 4\n",
            "be 41\n",
            "broken 1\n",
            "chance 1\n",
            "cloudy 1\n",
            "comes 2\n",
            "darkness 1\n",
            "find 1\n",
            "front 1\n",
            "hearted 1\n",
            "hour 1\n",
            "in 4\n",
            "is 4\n",
            "it 36\n",
            "let 30\n",
            "light 1\n",
            "living 1\n",
            "may 1\n",
            "me 4\n",
            "music 1\n",
            "my 1\n",
            "myself 1\n",
            "night 1\n",
            "of 11\n",
            "on 1\n",
            "parted 1\n",
            "people 1\n",
            "right 1\n",
            "see 1\n",
            "she 1\n",
            "shines 1\n",
            "sound 1\n",
            "standing 1\n",
            "still 2\n",
            "that 2\n",
            "the 4\n",
            "there 2\n",
            "they 2\n",
            "though 1\n",
            "times 1\n",
            "to 3\n",
            "tomorrow 1\n",
            "trouble 1\n",
            "until 1\n",
            "up 1\n",
            "wake 1\n",
            "when 2\n",
            "will 5\n",
            "wisdom 7\n",
            "words 7\n",
            "world 1\n",
            "yeah 2\n"
          ]
        }
      ]
    }
  ]
}