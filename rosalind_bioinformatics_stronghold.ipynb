{
  "nbformat": 4,
  "nbformat_minor": 0,
  "metadata": {
    "colab": {
      "provenance": []
    },
    "kernelspec": {
      "name": "python3",
      "display_name": "Python 3"
    },
    "language_info": {
      "name": "python"
    }
  },
  "cells": [
    {
      "cell_type": "markdown",
      "source": [
        "1. Counting DNA Nucleotides\n",
        "---\n"
      ],
      "metadata": {
        "id": "ucU3YSf51yol"
      }
    },
    {
      "cell_type": "code",
      "execution_count": 3,
      "metadata": {
        "colab": {
          "base_uri": "https://localhost:8080/"
        },
        "id": "EGnrmv301n8V",
        "outputId": "a7e92fb6-324b-46fa-e656-711adb7c4222"
      },
      "outputs": [
        {
          "output_type": "stream",
          "name": "stdout",
          "text": [
            "208 230 202 216\n"
          ]
        }
      ],
      "source": [
        "#'A', 'C', 'G','T'\n",
        "nucleotides_dict = {'A':0, 'C':0, 'G':0,'T':0}\n",
        "\n",
        "sequence = \"ATGTCGACCCGGGTTATGTTTACGTCACTAAGGTGTTCATTAAGAAAGTCTCCGCTCAACTGTATTCGTAGCGACCTCTGTCGTACCAGCCTAGGAGCCATCGCCTTACGCAGAACATCCTGATATATTTTAACGCCTTTAGACCGGCCAGCCGGCTTGTGTGGGTGGATGAAGGTTACCTTGGTTAGGTGAAGATTTGTGACCCGCCGGAACTACTTGACCGCTACTAGAAGCTATGTCCACAGTAAGTGTATTCATCGGAAGAATTTATCTTGGGGGTCTTTCCGCCTGTTATCAGCAGGCCACTCCGCTCGCATCTAGGTCACAAGAGGCAACTTCAGTCTTTAAAACCGCAACGAAACTATCGGTATACACCGAGGAACATTCCCTGACGGTCCGACAGTCCGCGCGCTCCAAGTCATTTCTGGCCATGCTTTTAAGGTGAATTACGTACTACCGACGAGTTCTACCCCTCAGCGCTACAACCTTGCAGAATCCTTTTGGTACTGAACGTCTGGATATGTCGTATCTCAGTTGTGCGAGGGAAAGGTCTCGTCGTCGAGCTACGCGCGAATAACAAGCACTTTACCACTGTGGATGAGCGCGTAAGCCTGCGGACCCAACCCCCAATTCCATGCGTTCCGATTGAAATGCACTCCCCGATGATGATGAACGAACTGCTACTTACCGCGCCCCAATCACAGGGTTGTATACTGAATCTTTCGTACCCTAATGAAATTAAAGTTTCCATGAAACGGGCGCTGATGCACTATAGCAGCACATGAGTGTAAGTGATGGGCTAGCACCTGCTCTTCCAAGTGCGAACCGTGGTGCCCACAGCGCCCCCACTAGTAGG\"\n",
        "for n in sequence:\n",
        "  nucleotides_dict[n] = nucleotides_dict[n]+1\n",
        "\n",
        "print(nucleotides_dict[\"A\"],nucleotides_dict[\"C\"],nucleotides_dict[\"G\"],nucleotides_dict[\"T\"])"
      ]
    },
    {
      "cell_type": "markdown",
      "source": [
        "2. Transcribing DNA into RNA\n",
        "---"
      ],
      "metadata": {
        "id": "IdDHRylf3NX5"
      }
    },
    {
      "cell_type": "code",
      "source": [
        "sequence = \"GGACGAGCTTTAGAATGAGGGCGGGGAGATCCTGTACCTAGAGTCTTTCTCCTGGGTGTACTCAGGCGACAGGGGCAAGTTCGAGATGTTTTTAAGGTGTATTGTTATTACTTGCGTAGTTTTAACGCGCCGAGTCCTTGCGCGCGTCGTGTTGACCGAGAAGCGTATAAAGCCCGAGAGCGTTATTGCGTGCATATAGCAACCCGAGAGTTCTCGATATCTCAGGATGTTAATGACGCTAACGTCGCTTAGATCAAGTACCCTCTTATCCCACTTCCGGTTAGATGGTCGGCAAGTCCCGCCAGAGAAACCGACTCTGATTCAGTGAATGTTGCTGTGTTAGCGGAAAAGGGGCATTGTCTACAAAGGCGGTCGCTAAGGACACCTCTGGGGAGACCAAGCACCCTCAACGAAAGGATATTGCATTTGGCCGTGACTCTCTCCGGTCCTTTAACGCAATAGTCGCAACATCCCCAGTTCTGGTTAATATTTGCAATCTTATGTGCCAAACTATAACATTGAGGGTGCTGAACACATGACGCTCAGCTGTAGGAAGCTGCTTTTCGAAAGGTTAGGGTCCTCCAAATACGCCACTGCTCTTCTTGTGTTTGATGTATTCCATTTGCGTACGCGATGCTCCCTGGCGTCTTACTTACGGACACTATTCTCCACCAGAATCTCATGGCCGTGGGCACTTTCGGTGAGCGATTATGTGCTGGGCATGACAACTCCTTACGTCTGCCCACGTTTACCGCGCAGCTTGGTCCGCTCTTGGGCTGATGCAAAGGAGATTCAAACGGACTACTAGCTTGGGGTTTTGTCTCCCTTTGTATCCAACTCGCGTCGCTTGGGCTTGCCGTCAAAGTCGATTCTTAATTAGCGCGTTCTTAATTCCCGAACCAGCAGTCGGATATTAAAACCATCATAAATGTGCCCC\"\n",
        "transcribe = sequence.replace(\"T\",\"U\")\n",
        "print(transcribe)"
      ],
      "metadata": {
        "colab": {
          "base_uri": "https://localhost:8080/"
        },
        "id": "ic48i5hs3ROy",
        "outputId": "b0f6c82d-69c7-4e94-e18a-36bf14a473bd"
      },
      "execution_count": 5,
      "outputs": [
        {
          "output_type": "stream",
          "name": "stdout",
          "text": [
            "GGACGAGCUUUAGAAUGAGGGCGGGGAGAUCCUGUACCUAGAGUCUUUCUCCUGGGUGUACUCAGGCGACAGGGGCAAGUUCGAGAUGUUUUUAAGGUGUAUUGUUAUUACUUGCGUAGUUUUAACGCGCCGAGUCCUUGCGCGCGUCGUGUUGACCGAGAAGCGUAUAAAGCCCGAGAGCGUUAUUGCGUGCAUAUAGCAACCCGAGAGUUCUCGAUAUCUCAGGAUGUUAAUGACGCUAACGUCGCUUAGAUCAAGUACCCUCUUAUCCCACUUCCGGUUAGAUGGUCGGCAAGUCCCGCCAGAGAAACCGACUCUGAUUCAGUGAAUGUUGCUGUGUUAGCGGAAAAGGGGCAUUGUCUACAAAGGCGGUCGCUAAGGACACCUCUGGGGAGACCAAGCACCCUCAACGAAAGGAUAUUGCAUUUGGCCGUGACUCUCUCCGGUCCUUUAACGCAAUAGUCGCAACAUCCCCAGUUCUGGUUAAUAUUUGCAAUCUUAUGUGCCAAACUAUAACAUUGAGGGUGCUGAACACAUGACGCUCAGCUGUAGGAAGCUGCUUUUCGAAAGGUUAGGGUCCUCCAAAUACGCCACUGCUCUUCUUGUGUUUGAUGUAUUCCAUUUGCGUACGCGAUGCUCCCUGGCGUCUUACUUACGGACACUAUUCUCCACCAGAAUCUCAUGGCCGUGGGCACUUUCGGUGAGCGAUUAUGUGCUGGGCAUGACAACUCCUUACGUCUGCCCACGUUUACCGCGCAGCUUGGUCCGCUCUUGGGCUGAUGCAAAGGAGAUUCAAACGGACUACUAGCUUGGGGUUUUGUCUCCCUUUGUAUCCAACUCGCGUCGCUUGGGCUUGCCGUCAAAGUCGAUUCUUAAUUAGCGCGUUCUUAAUUCCCGAACCAGCAGUCGGAUAUUAAAACCAUCAUAAAUGUGCCCC\n"
          ]
        }
      ]
    },
    {
      "cell_type": "markdown",
      "source": [
        "3. Complementing a Strand of DNA\n",
        "---"
      ],
      "metadata": {
        "id": "aDc2JOI37J5N"
      }
    },
    {
      "cell_type": "code",
      "source": [
        "sequence = \"ATGTCACGAGATCTAAAACTTCAGATCCTGACGCCGTACCCTCATGTAGGTAGCACTCCCACCAACGGCATACACAGTGTCGTCTTAAGAAGCACCTTTGCTTCACCAATGCCCAGATAGGACTCCGCGGCCATGGGAGTAGCGAGGGTTGGTTTTAATGGACATATAGTCCACGCTGGCGATATGATCATCCAAGATGCACCTTCCCGGCTGGTTAAGCCAAATTCCTGGAGGGAAGAGTCGTAGTTACAAGTGGACGGCTTAAACTGACTTTCAGACAACTAGTCGACATGCGTCAACCGAAGGGAGTGTCATTGGCGCCCAACGGTATATTTTAGTATGCCCCACTGACTAGCTCGCTGACTTAGGAACGTGTGGTTCTAGCATAGCTCCCCAAGAGTTTGTCCTCATACTCTGTCCTGCCACTGACTATTATGAATTGCCTGACGCGAGTCCTTTGTTAATGAAACCTAGGGCTAAGCTTATCAGACCGAGGCGGGGTGTATCATTATCAGTGCTCCCGAGCAGATCAAAACACACGAAACCCGAGTACCGACGTCAATCCATATCCCCGCTGGAAAGGCATAGCTCGTTAGTGGAGGACTGGAAGAGTGATTACAGCATACTCGAATACTACTCAGTGTGGTGGGAGCACCACATAAACGTCGTCAGAATAGGTGCGACGCGACATTATTGCAAGGACGGCGAGGTTGGTGAGGTATTAGCACGACAGACTTCTCATACTAGACATATTGCTCCGTACGTGGGTTGTAATGGTAGTACTGCAGGCTCGACCTTAGGAAGTTGTTACCAAAGCGCGGGGCGCCCTTAAACTGGCCCCGGCCTAGCCCGGCCAGTTTCCCAGTTGAGTCCAAAAGCAACTGGGAACCCATCCCCCCTA\"\n",
        "reversed_sequence = sequence[::-1]\n",
        "nucleotide_pairs = {\"A\":\"T\",\"T\":\"A\",\"G\":\"C\",\"C\":\"G\"}\n",
        "final_complement = \"\"\n",
        "for n in reversed_sequence:\n",
        "  final_complement = final_complement+ nucleotide_pairs[n]\n",
        "print(final_complement)"
      ],
      "metadata": {
        "colab": {
          "base_uri": "https://localhost:8080/"
        },
        "id": "dzik6KZn7O84",
        "outputId": "d8388400-c1c1-4cb8-8a39-954e6ded3882"
      },
      "execution_count": 11,
      "outputs": [
        {
          "output_type": "stream",
          "name": "stdout",
          "text": [
            "TAGGGGGGATGGGTTCCCAGTTGCTTTTGGACTCAACTGGGAAACTGGCCGGGCTAGGCCGGGGCCAGTTTAAGGGCGCCCCGCGCTTTGGTAACAACTTCCTAAGGTCGAGCCTGCAGTACTACCATTACAACCCACGTACGGAGCAATATGTCTAGTATGAGAAGTCTGTCGTGCTAATACCTCACCAACCTCGCCGTCCTTGCAATAATGTCGCGTCGCACCTATTCTGACGACGTTTATGTGGTGCTCCCACCACACTGAGTAGTATTCGAGTATGCTGTAATCACTCTTCCAGTCCTCCACTAACGAGCTATGCCTTTCCAGCGGGGATATGGATTGACGTCGGTACTCGGGTTTCGTGTGTTTTGATCTGCTCGGGAGCACTGATAATGATACACCCCGCCTCGGTCTGATAAGCTTAGCCCTAGGTTTCATTAACAAAGGACTCGCGTCAGGCAATTCATAATAGTCAGTGGCAGGACAGAGTATGAGGACAAACTCTTGGGGAGCTATGCTAGAACCACACGTTCCTAAGTCAGCGAGCTAGTCAGTGGGGCATACTAAAATATACCGTTGGGCGCCAATGACACTCCCTTCGGTTGACGCATGTCGACTAGTTGTCTGAAAGTCAGTTTAAGCCGTCCACTTGTAACTACGACTCTTCCCTCCAGGAATTTGGCTTAACCAGCCGGGAAGGTGCATCTTGGATGATCATATCGCCAGCGTGGACTATATGTCCATTAAAACCAACCCTCGCTACTCCCATGGCCGCGGAGTCCTATCTGGGCATTGGTGAAGCAAAGGTGCTTCTTAAGACGACACTGTGTATGCCGTTGGTGGGAGTGCTACCTACATGAGGGTACGGCGTCAGGATCTGAAGTTTTAGATCTCGTGACAT\n"
          ]
        }
      ]
    },
    {
      "cell_type": "markdown",
      "source": [
        "4. Rabbits and Recurrency relation\n",
        "---"
      ],
      "metadata": {
        "id": "bLoyrvKW_f7z"
      }
    },
    {
      "cell_type": "code",
      "source": [
        "def rabbit_pairs(n, k):\n",
        "    if n == 1 or n == 2:\n",
        "        return 1\n",
        "\n",
        "    rabbits = [0] * (n + 1)\n",
        "    rabbits[1] = 1\n",
        "    rabbits[2] = 1\n",
        "\n",
        "    for i in range(3, n + 1):\n",
        "        rabbits[i] = rabbits[i - 1] + k * rabbits[i - 2]\n",
        "\n",
        "    return rabbits[n]\n",
        "\n",
        "print(rabbit_pairs(32,2))"
      ],
      "metadata": {
        "colab": {
          "base_uri": "https://localhost:8080/"
        },
        "id": "FN1_GMHS_fk_",
        "outputId": "82d60aad-8fda-405e-a52f-c57d91f6aad4"
      },
      "execution_count": 16,
      "outputs": [
        {
          "output_type": "stream",
          "name": "stdout",
          "text": [
            "1431655765\n"
          ]
        }
      ]
    },
    {
      "cell_type": "markdown",
      "source": [
        "5. Computing GC Content\n",
        "---"
      ],
      "metadata": {
        "id": "gHBA-21DAwCk"
      }
    },
    {
      "cell_type": "code",
      "source": [
        "!pip install biopython"
      ],
      "metadata": {
        "colab": {
          "base_uri": "https://localhost:8080/"
        },
        "id": "VBcMrNoaB3MI",
        "outputId": "b1b23693-2282-4ce3-e65a-f051e2cdb15d"
      },
      "execution_count": 17,
      "outputs": [
        {
          "output_type": "stream",
          "name": "stdout",
          "text": [
            "Collecting biopython\n",
            "  Downloading biopython-1.83-cp310-cp310-manylinux_2_17_x86_64.manylinux2014_x86_64.whl (3.1 MB)\n",
            "\u001b[2K     \u001b[90m━━━━━━━━━━━━━━━━━━━━━━━━━━━━━━━━━━━━━━━━\u001b[0m \u001b[32m3.1/3.1 MB\u001b[0m \u001b[31m26.0 MB/s\u001b[0m eta \u001b[36m0:00:00\u001b[0m\n",
            "\u001b[?25hRequirement already satisfied: numpy in /usr/local/lib/python3.10/dist-packages (from biopython) (1.25.2)\n",
            "Installing collected packages: biopython\n",
            "Successfully installed biopython-1.83\n"
          ]
        }
      ]
    },
    {
      "cell_type": "code",
      "source": [
        "from Bio import SeqIO\n",
        "import pandas as pd\n",
        "\n",
        "\n",
        "def fasta_to_dataframe(fasta_file):\n",
        "    sequences = []\n",
        "    with open(fasta_file, \"r\") as handle:\n",
        "        for record in SeqIO.parse(handle, \"fasta\"):\n",
        "            sequences.append((record.id, str(record.seq)))\n",
        "    df = pd.DataFrame(sequences, columns=['id' ,'sequence'])\n",
        "    return df\n",
        "\n",
        "# Example usage\n",
        "fasta_file = \"/content/rosalind_gc.fasta\"\n",
        "df = fasta_to_dataframe(fasta_file)"
      ],
      "metadata": {
        "id": "7LWh-4BbBnKa"
      },
      "execution_count": 34,
      "outputs": []
    },
    {
      "cell_type": "code",
      "source": [
        "df"
      ],
      "metadata": {
        "colab": {
          "base_uri": "https://localhost:8080/",
          "height": 320
        },
        "id": "UFxeTVV7Cea0",
        "outputId": "b9684ac7-a0d4-433b-cf99-f6f0ef3668ff"
      },
      "execution_count": 35,
      "outputs": [
        {
          "output_type": "execute_result",
          "data": {
            "text/plain": [
              "              id                                           sequence\n",
              "0  Rosalind_4173  TTTGCGTTAAATATCGTCGCCATGTACAGCATGAGTGTCCCCAGAC...\n",
              "1  Rosalind_1199  AGAAAGCATTCTACAGTCTCTAGCGGTATGACGTATGGAATCTGTG...\n",
              "2  Rosalind_8390  GTTGCCACTAAATGCAACAGGGGGCTCATTCGGAAATATCCCACCC...\n",
              "3  Rosalind_0688  AGAGGATGGCTGAACCTGCATTTGACGTGTACGATAACGTCGAGTC...\n",
              "4  Rosalind_4104  GGACCGGTTGCCGGTTTTCGAGGATCCTGGCAACTTCACACTTTCT...\n",
              "5  Rosalind_1817  GTGTAGTTCCGTATACGCGGCACGCTTCCTCCAGAAAGAATAGCCC...\n",
              "6  Rosalind_1362  CGCAGCATCAGCAGTTGGGTCGATCAGGAATCTTATCTGCAATGTG...\n",
              "7  Rosalind_4847  TAGGAAGACAGACCTTGGGATTGGTAGGGCCCAAGCAGCACCGTAA..."
            ],
            "text/html": [
              "\n",
              "  <div id=\"df-3fa7a028-86dd-4733-b2d4-91a9c1687b58\" class=\"colab-df-container\">\n",
              "    <div>\n",
              "<style scoped>\n",
              "    .dataframe tbody tr th:only-of-type {\n",
              "        vertical-align: middle;\n",
              "    }\n",
              "\n",
              "    .dataframe tbody tr th {\n",
              "        vertical-align: top;\n",
              "    }\n",
              "\n",
              "    .dataframe thead th {\n",
              "        text-align: right;\n",
              "    }\n",
              "</style>\n",
              "<table border=\"1\" class=\"dataframe\">\n",
              "  <thead>\n",
              "    <tr style=\"text-align: right;\">\n",
              "      <th></th>\n",
              "      <th>id</th>\n",
              "      <th>sequence</th>\n",
              "    </tr>\n",
              "  </thead>\n",
              "  <tbody>\n",
              "    <tr>\n",
              "      <th>0</th>\n",
              "      <td>Rosalind_4173</td>\n",
              "      <td>TTTGCGTTAAATATCGTCGCCATGTACAGCATGAGTGTCCCCAGAC...</td>\n",
              "    </tr>\n",
              "    <tr>\n",
              "      <th>1</th>\n",
              "      <td>Rosalind_1199</td>\n",
              "      <td>AGAAAGCATTCTACAGTCTCTAGCGGTATGACGTATGGAATCTGTG...</td>\n",
              "    </tr>\n",
              "    <tr>\n",
              "      <th>2</th>\n",
              "      <td>Rosalind_8390</td>\n",
              "      <td>GTTGCCACTAAATGCAACAGGGGGCTCATTCGGAAATATCCCACCC...</td>\n",
              "    </tr>\n",
              "    <tr>\n",
              "      <th>3</th>\n",
              "      <td>Rosalind_0688</td>\n",
              "      <td>AGAGGATGGCTGAACCTGCATTTGACGTGTACGATAACGTCGAGTC...</td>\n",
              "    </tr>\n",
              "    <tr>\n",
              "      <th>4</th>\n",
              "      <td>Rosalind_4104</td>\n",
              "      <td>GGACCGGTTGCCGGTTTTCGAGGATCCTGGCAACTTCACACTTTCT...</td>\n",
              "    </tr>\n",
              "    <tr>\n",
              "      <th>5</th>\n",
              "      <td>Rosalind_1817</td>\n",
              "      <td>GTGTAGTTCCGTATACGCGGCACGCTTCCTCCAGAAAGAATAGCCC...</td>\n",
              "    </tr>\n",
              "    <tr>\n",
              "      <th>6</th>\n",
              "      <td>Rosalind_1362</td>\n",
              "      <td>CGCAGCATCAGCAGTTGGGTCGATCAGGAATCTTATCTGCAATGTG...</td>\n",
              "    </tr>\n",
              "    <tr>\n",
              "      <th>7</th>\n",
              "      <td>Rosalind_4847</td>\n",
              "      <td>TAGGAAGACAGACCTTGGGATTGGTAGGGCCCAAGCAGCACCGTAA...</td>\n",
              "    </tr>\n",
              "  </tbody>\n",
              "</table>\n",
              "</div>\n",
              "    <div class=\"colab-df-buttons\">\n",
              "\n",
              "  <div class=\"colab-df-container\">\n",
              "    <button class=\"colab-df-convert\" onclick=\"convertToInteractive('df-3fa7a028-86dd-4733-b2d4-91a9c1687b58')\"\n",
              "            title=\"Convert this dataframe to an interactive table.\"\n",
              "            style=\"display:none;\">\n",
              "\n",
              "  <svg xmlns=\"http://www.w3.org/2000/svg\" height=\"24px\" viewBox=\"0 -960 960 960\">\n",
              "    <path d=\"M120-120v-720h720v720H120Zm60-500h600v-160H180v160Zm220 220h160v-160H400v160Zm0 220h160v-160H400v160ZM180-400h160v-160H180v160Zm440 0h160v-160H620v160ZM180-180h160v-160H180v160Zm440 0h160v-160H620v160Z\"/>\n",
              "  </svg>\n",
              "    </button>\n",
              "\n",
              "  <style>\n",
              "    .colab-df-container {\n",
              "      display:flex;\n",
              "      gap: 12px;\n",
              "    }\n",
              "\n",
              "    .colab-df-convert {\n",
              "      background-color: #E8F0FE;\n",
              "      border: none;\n",
              "      border-radius: 50%;\n",
              "      cursor: pointer;\n",
              "      display: none;\n",
              "      fill: #1967D2;\n",
              "      height: 32px;\n",
              "      padding: 0 0 0 0;\n",
              "      width: 32px;\n",
              "    }\n",
              "\n",
              "    .colab-df-convert:hover {\n",
              "      background-color: #E2EBFA;\n",
              "      box-shadow: 0px 1px 2px rgba(60, 64, 67, 0.3), 0px 1px 3px 1px rgba(60, 64, 67, 0.15);\n",
              "      fill: #174EA6;\n",
              "    }\n",
              "\n",
              "    .colab-df-buttons div {\n",
              "      margin-bottom: 4px;\n",
              "    }\n",
              "\n",
              "    [theme=dark] .colab-df-convert {\n",
              "      background-color: #3B4455;\n",
              "      fill: #D2E3FC;\n",
              "    }\n",
              "\n",
              "    [theme=dark] .colab-df-convert:hover {\n",
              "      background-color: #434B5C;\n",
              "      box-shadow: 0px 1px 3px 1px rgba(0, 0, 0, 0.15);\n",
              "      filter: drop-shadow(0px 1px 2px rgba(0, 0, 0, 0.3));\n",
              "      fill: #FFFFFF;\n",
              "    }\n",
              "  </style>\n",
              "\n",
              "    <script>\n",
              "      const buttonEl =\n",
              "        document.querySelector('#df-3fa7a028-86dd-4733-b2d4-91a9c1687b58 button.colab-df-convert');\n",
              "      buttonEl.style.display =\n",
              "        google.colab.kernel.accessAllowed ? 'block' : 'none';\n",
              "\n",
              "      async function convertToInteractive(key) {\n",
              "        const element = document.querySelector('#df-3fa7a028-86dd-4733-b2d4-91a9c1687b58');\n",
              "        const dataTable =\n",
              "          await google.colab.kernel.invokeFunction('convertToInteractive',\n",
              "                                                    [key], {});\n",
              "        if (!dataTable) return;\n",
              "\n",
              "        const docLinkHtml = 'Like what you see? Visit the ' +\n",
              "          '<a target=\"_blank\" href=https://colab.research.google.com/notebooks/data_table.ipynb>data table notebook</a>'\n",
              "          + ' to learn more about interactive tables.';\n",
              "        element.innerHTML = '';\n",
              "        dataTable['output_type'] = 'display_data';\n",
              "        await google.colab.output.renderOutput(dataTable, element);\n",
              "        const docLink = document.createElement('div');\n",
              "        docLink.innerHTML = docLinkHtml;\n",
              "        element.appendChild(docLink);\n",
              "      }\n",
              "    </script>\n",
              "  </div>\n",
              "\n",
              "\n",
              "<div id=\"df-c0e0bbe0-5416-4967-8fbc-44a97cb1862c\">\n",
              "  <button class=\"colab-df-quickchart\" onclick=\"quickchart('df-c0e0bbe0-5416-4967-8fbc-44a97cb1862c')\"\n",
              "            title=\"Suggest charts\"\n",
              "            style=\"display:none;\">\n",
              "\n",
              "<svg xmlns=\"http://www.w3.org/2000/svg\" height=\"24px\"viewBox=\"0 0 24 24\"\n",
              "     width=\"24px\">\n",
              "    <g>\n",
              "        <path d=\"M19 3H5c-1.1 0-2 .9-2 2v14c0 1.1.9 2 2 2h14c1.1 0 2-.9 2-2V5c0-1.1-.9-2-2-2zM9 17H7v-7h2v7zm4 0h-2V7h2v10zm4 0h-2v-4h2v4z\"/>\n",
              "    </g>\n",
              "</svg>\n",
              "  </button>\n",
              "\n",
              "<style>\n",
              "  .colab-df-quickchart {\n",
              "      --bg-color: #E8F0FE;\n",
              "      --fill-color: #1967D2;\n",
              "      --hover-bg-color: #E2EBFA;\n",
              "      --hover-fill-color: #174EA6;\n",
              "      --disabled-fill-color: #AAA;\n",
              "      --disabled-bg-color: #DDD;\n",
              "  }\n",
              "\n",
              "  [theme=dark] .colab-df-quickchart {\n",
              "      --bg-color: #3B4455;\n",
              "      --fill-color: #D2E3FC;\n",
              "      --hover-bg-color: #434B5C;\n",
              "      --hover-fill-color: #FFFFFF;\n",
              "      --disabled-bg-color: #3B4455;\n",
              "      --disabled-fill-color: #666;\n",
              "  }\n",
              "\n",
              "  .colab-df-quickchart {\n",
              "    background-color: var(--bg-color);\n",
              "    border: none;\n",
              "    border-radius: 50%;\n",
              "    cursor: pointer;\n",
              "    display: none;\n",
              "    fill: var(--fill-color);\n",
              "    height: 32px;\n",
              "    padding: 0;\n",
              "    width: 32px;\n",
              "  }\n",
              "\n",
              "  .colab-df-quickchart:hover {\n",
              "    background-color: var(--hover-bg-color);\n",
              "    box-shadow: 0 1px 2px rgba(60, 64, 67, 0.3), 0 1px 3px 1px rgba(60, 64, 67, 0.15);\n",
              "    fill: var(--button-hover-fill-color);\n",
              "  }\n",
              "\n",
              "  .colab-df-quickchart-complete:disabled,\n",
              "  .colab-df-quickchart-complete:disabled:hover {\n",
              "    background-color: var(--disabled-bg-color);\n",
              "    fill: var(--disabled-fill-color);\n",
              "    box-shadow: none;\n",
              "  }\n",
              "\n",
              "  .colab-df-spinner {\n",
              "    border: 2px solid var(--fill-color);\n",
              "    border-color: transparent;\n",
              "    border-bottom-color: var(--fill-color);\n",
              "    animation:\n",
              "      spin 1s steps(1) infinite;\n",
              "  }\n",
              "\n",
              "  @keyframes spin {\n",
              "    0% {\n",
              "      border-color: transparent;\n",
              "      border-bottom-color: var(--fill-color);\n",
              "      border-left-color: var(--fill-color);\n",
              "    }\n",
              "    20% {\n",
              "      border-color: transparent;\n",
              "      border-left-color: var(--fill-color);\n",
              "      border-top-color: var(--fill-color);\n",
              "    }\n",
              "    30% {\n",
              "      border-color: transparent;\n",
              "      border-left-color: var(--fill-color);\n",
              "      border-top-color: var(--fill-color);\n",
              "      border-right-color: var(--fill-color);\n",
              "    }\n",
              "    40% {\n",
              "      border-color: transparent;\n",
              "      border-right-color: var(--fill-color);\n",
              "      border-top-color: var(--fill-color);\n",
              "    }\n",
              "    60% {\n",
              "      border-color: transparent;\n",
              "      border-right-color: var(--fill-color);\n",
              "    }\n",
              "    80% {\n",
              "      border-color: transparent;\n",
              "      border-right-color: var(--fill-color);\n",
              "      border-bottom-color: var(--fill-color);\n",
              "    }\n",
              "    90% {\n",
              "      border-color: transparent;\n",
              "      border-bottom-color: var(--fill-color);\n",
              "    }\n",
              "  }\n",
              "</style>\n",
              "\n",
              "  <script>\n",
              "    async function quickchart(key) {\n",
              "      const quickchartButtonEl =\n",
              "        document.querySelector('#' + key + ' button');\n",
              "      quickchartButtonEl.disabled = true;  // To prevent multiple clicks.\n",
              "      quickchartButtonEl.classList.add('colab-df-spinner');\n",
              "      try {\n",
              "        const charts = await google.colab.kernel.invokeFunction(\n",
              "            'suggestCharts', [key], {});\n",
              "      } catch (error) {\n",
              "        console.error('Error during call to suggestCharts:', error);\n",
              "      }\n",
              "      quickchartButtonEl.classList.remove('colab-df-spinner');\n",
              "      quickchartButtonEl.classList.add('colab-df-quickchart-complete');\n",
              "    }\n",
              "    (() => {\n",
              "      let quickchartButtonEl =\n",
              "        document.querySelector('#df-c0e0bbe0-5416-4967-8fbc-44a97cb1862c button');\n",
              "      quickchartButtonEl.style.display =\n",
              "        google.colab.kernel.accessAllowed ? 'block' : 'none';\n",
              "    })();\n",
              "  </script>\n",
              "</div>\n",
              "\n",
              "  <div id=\"id_a04b8552-60fd-4c5b-9589-247d034157b8\">\n",
              "    <style>\n",
              "      .colab-df-generate {\n",
              "        background-color: #E8F0FE;\n",
              "        border: none;\n",
              "        border-radius: 50%;\n",
              "        cursor: pointer;\n",
              "        display: none;\n",
              "        fill: #1967D2;\n",
              "        height: 32px;\n",
              "        padding: 0 0 0 0;\n",
              "        width: 32px;\n",
              "      }\n",
              "\n",
              "      .colab-df-generate:hover {\n",
              "        background-color: #E2EBFA;\n",
              "        box-shadow: 0px 1px 2px rgba(60, 64, 67, 0.3), 0px 1px 3px 1px rgba(60, 64, 67, 0.15);\n",
              "        fill: #174EA6;\n",
              "      }\n",
              "\n",
              "      [theme=dark] .colab-df-generate {\n",
              "        background-color: #3B4455;\n",
              "        fill: #D2E3FC;\n",
              "      }\n",
              "\n",
              "      [theme=dark] .colab-df-generate:hover {\n",
              "        background-color: #434B5C;\n",
              "        box-shadow: 0px 1px 3px 1px rgba(0, 0, 0, 0.15);\n",
              "        filter: drop-shadow(0px 1px 2px rgba(0, 0, 0, 0.3));\n",
              "        fill: #FFFFFF;\n",
              "      }\n",
              "    </style>\n",
              "    <button class=\"colab-df-generate\" onclick=\"generateWithVariable('df')\"\n",
              "            title=\"Generate code using this dataframe.\"\n",
              "            style=\"display:none;\">\n",
              "\n",
              "  <svg xmlns=\"http://www.w3.org/2000/svg\" height=\"24px\"viewBox=\"0 0 24 24\"\n",
              "       width=\"24px\">\n",
              "    <path d=\"M7,19H8.4L18.45,9,17,7.55,7,17.6ZM5,21V16.75L18.45,3.32a2,2,0,0,1,2.83,0l1.4,1.43a1.91,1.91,0,0,1,.58,1.4,1.91,1.91,0,0,1-.58,1.4L9.25,21ZM18.45,9,17,7.55Zm-12,3A5.31,5.31,0,0,0,4.9,8.1,5.31,5.31,0,0,0,1,6.5,5.31,5.31,0,0,0,4.9,4.9,5.31,5.31,0,0,0,6.5,1,5.31,5.31,0,0,0,8.1,4.9,5.31,5.31,0,0,0,12,6.5,5.46,5.46,0,0,0,6.5,12Z\"/>\n",
              "  </svg>\n",
              "    </button>\n",
              "    <script>\n",
              "      (() => {\n",
              "      const buttonEl =\n",
              "        document.querySelector('#id_a04b8552-60fd-4c5b-9589-247d034157b8 button.colab-df-generate');\n",
              "      buttonEl.style.display =\n",
              "        google.colab.kernel.accessAllowed ? 'block' : 'none';\n",
              "\n",
              "      buttonEl.onclick = () => {\n",
              "        google.colab.notebook.generateWithVariable('df');\n",
              "      }\n",
              "      })();\n",
              "    </script>\n",
              "  </div>\n",
              "\n",
              "    </div>\n",
              "  </div>\n"
            ],
            "application/vnd.google.colaboratory.intrinsic+json": {
              "type": "dataframe",
              "variable_name": "df",
              "summary": "{\n  \"name\": \"df\",\n  \"rows\": 8,\n  \"fields\": [\n    {\n      \"column\": \"id\",\n      \"properties\": {\n        \"dtype\": \"string\",\n        \"num_unique_values\": 8,\n        \"samples\": [\n          \"Rosalind_1199\",\n          \"Rosalind_1817\",\n          \"Rosalind_4173\"\n        ],\n        \"semantic_type\": \"\",\n        \"description\": \"\"\n      }\n    },\n    {\n      \"column\": \"sequence\",\n      \"properties\": {\n        \"dtype\": \"string\",\n        \"num_unique_values\": 8,\n        \"samples\": [\n          \"AGAAAGCATTCTACAGTCTCTAGCGGTATGACGTATGGAATCTGTGCGTACATAGCAGTGGCGATCTTCAGTCGGTCCGTGAATCCCTACACGACCGTCTACTTTGATCGTATCATAGTATTGGTGCTTCAATTCGAAGCTTACCTACGAGGCTACTGGGGGCGGATGAATAAATCCGTCTTTCACAAGGTTGCCACTCTGGGGCTGGGGGAAGCCTTCATCTTCCAAACGTGAGGAGAAAAAGCAAGGTGGACATCACGTGCCCCCTCGCGGCACTCGCACAGCAGAGCGATGGAAAATGCTAGTACACACGTCGTCGTACTCGTACTGTCATCAGCGAAATCCCTGAGTGCAGTGTGCCACGTCAACTCATTCGCGTTAGTGGTCTGTACGTCTTCTTCATTTACTGTGGAGAAACCGGGACTAACGCCACTCGAGATGGATATTCGTTTACGGGCGGTTAATTACGGCCAACCATATTGACCGGGTGATGAACCGTTGTCATTAACGACTGATGCCGCCAGCACCGGAAGGACTCACCGAACCAAGATGCCCGCGGCATAGATATCACGTTTTAAAGCGTTGAGCGTTGGCGTGAGCCTACGGATTCCACTTGGTACGGAATGGGCGCGCGAAGGTCGCCAAACCTCCTAATACCACTTGGCCGCTTCTATTTACTTATTCTCACGTCCTCTATGCAGAACTCAGACGAAAACATCGCGAGTACAGAATTCAGGGTGCGTCATACGCGGTCGCGGTTCATACCCAGTCCCTGGCTTAACACCACGTGCCAAGCAAAAACACATGGAAGGAGAGTACCCCTCTAATAGTAGTCTGGCGGCATTACTGTGACTTGCTAAAATACCGGCGCCTCCATACTACATTGTGTAACGTGTCCAAGGCAGATATTCATCCATCCGTGTAGACTAATCAATGACCGTGTTGTTCATTCGGTACCCAATCAACG\",\n          \"GTGTAGTTCCGTATACGCGGCACGCTTCCTCCAGAAAGAATAGCCCGCCAGCATCAATCACATCCTAACATACCCCGGCTCAAATCCCCTAGGCCGAGTCAAGACGGGTTGCCATCACATGACCACAATCCGCCGAGGTTCAACGTTGACAGTAAGCAGACCGTAAGTGTGGATAGAATTACGAGTTCTGTCATATGGACTTGAGCCCGTAATGATCGCTTGACGCATTGAGAGCAAAAACATACGCAGTGCCTCCAGGCCAACTAAGCGCAGCTTGATGAAATCTGCCTACGGATTTGCTGCTATAGTAAAAGCGGCCACTCAACGAGGTTACAGTTCCGCTAGGCGAGCATGCCTGGTCAACCAGAAGGAGTGGTCTAAAGATCTGGTTTTTTCACGGCGTCTATGGTGGACGAGAAAACTGCAGGTATCGTTAGAAGAACACATGCAGCTCTCACCGTATTGGATCTGTCACTCACCAGACAAGCCCGAAGCCCACCTAACGTCTCCGATGAAAGGGGGTTGCGTGCCGGTGTGGTCATGCTTTTATGTATTCAGCGAGGAGATCATCGAACGCTCGTAAAAAGAGCGCGGTTGGCTAATAAATATTCAGTAATATTCGCTATTACCGAATAGGAGCGGGTACGGTGCCGTGCGAGATCACGCTCAACAGGTCGACCAGCATAACCAATTAGCTTTGCAGTCTCAAGGGGTCCATGTCGGGTTCGACCTGGATCCGACGTTGCATCCCATTCTTGGAGGTATAATTGCGGGGTAAATCATCCATTGCCTGTTGGGAACTGGAGGAGCACCC\",\n          \"TTTGCGTTAAATATCGTCGCCATGTACAGCATGAGTGTCCCCAGACACAGGGACATATCAGAACGGGAGGTCGCATCGTGAGTGCCGGAGATATGACCCGGCCCCGTCGGTATAAATCGATTACCGGTCCGGAGCACTCAGACGCGAGTTGCGCGTAGGCCATATAGAATGGGGCTATAGAAGCGATTGTGGCTGTGGTCAAAATACCCCAGTGTGCGTCAACCCAGTTTTGTATATGAAGGTTCCGTGTATCCGACAGCGAGTTGAGCGGTAAAATTCGGTATATGTTTTCATTAGTGCTGCGGACGCCACCTAGCATCGTCTTTGCACGCTGGGACGGGCGACGCTTTGCTGAAGACATGCAGTGTATACGTTTTCAAGAGCTGCTATGCAGTTTGCTGTAAGAGGGTGCAAGAACGCGGCGAATTGGGTATTGAGGCAGCAGTGTCTATCACATCACGGACACTGTGACCTTGCAGGCTGTGTGCCCTGCTGGGAATGACACCGGTTTCACAGAGCGTCTATGGCTTAGGTAACGTCATGCCAAGAGTAGAAGGCACCCCGGTAGGGCGGAGATTTGAGAACGGCTTAGGTACGCTCGCCCAGACAATCAGGTCCGAGTGGGAGACTGTTGAATGGGTTTCCGGCGGACGGATGCCGGCGAATTATCTCTAATTTCCGAAACGCAACAAAATTCTGCAGGTAACAGCATAGAGGTTCCGAGGTCCAGACTAGGAACATTATGACCCAGCAACAAGCCGCCAAGGAACGGGTACTCTGGTCAGTAGTTGTGAACGGTGCGTACCACGGATGGTTTGATAGCCTTGCCAGACATCTACTCACACAAATTG\"\n        ],\n        \"semantic_type\": \"\",\n        \"description\": \"\"\n      }\n    }\n  ]\n}"
            }
          },
          "metadata": {},
          "execution_count": 35
        }
      ]
    },
    {
      "cell_type": "code",
      "source": [
        "def cg_percentage(sequence):\n",
        "  seq_len = len(sequence)\n",
        "  count_cg = 0\n",
        "  for n in sequence:\n",
        "    if n == \"C\" or n == \"G\":\n",
        "      count_cg +=1\n",
        "  return 100*count_cg/seq_len"
      ],
      "metadata": {
        "id": "Bsas4UcDClU3"
      },
      "execution_count": 36,
      "outputs": []
    },
    {
      "cell_type": "code",
      "source": [
        "df['cg_percentage'] = df.sequence.apply(cg_percentage)"
      ],
      "metadata": {
        "id": "cWl4zVRdDCDD"
      },
      "execution_count": 37,
      "outputs": []
    },
    {
      "cell_type": "code",
      "source": [
        "df = df.sort_values(by=\"cg_percentage\",ascending=False)\n",
        "print(df['id'].values[0])\n",
        "print(df[\"cg_percentage\"].values[0])"
      ],
      "metadata": {
        "colab": {
          "base_uri": "https://localhost:8080/"
        },
        "id": "DLELfc10DU0C",
        "outputId": "f936483c-8abf-4097-9369-b07084a3b758"
      },
      "execution_count": 38,
      "outputs": [
        {
          "output_type": "stream",
          "name": "stdout",
          "text": [
            "Rosalind_0688\n",
            "53.54523227383863\n"
          ]
        }
      ]
    }
  ]
}